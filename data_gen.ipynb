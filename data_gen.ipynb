{
 "cells": [
  {
   "cell_type": "code",
   "execution_count": 24,
   "metadata": {},
   "outputs": [],
   "source": [
    "import torch\n",
    "import numpy as np\n",
    "import matplotlib.pyplot as plt\n",
    "from PINN.utilities import V_BS"
   ]
  },
  {
   "cell_type": "code",
   "execution_count": null,
   "metadata": {},
   "outputs": [
    {
     "data": {
      "text/plain": [
       "<torch._C.Generator at 0x1231f1c70>"
      ]
     },
     "execution_count": 25,
     "metadata": {},
     "output_type": "execute_result"
    }
   ],
   "source": [
    "# parameters\n",
    "K = 4\n",
    "sigma = 0.3\n",
    "r = 0.03\n",
    "T = 1\n",
    "S_inf = 3 * K  # truncted domain (0, inf]\n",
    "\n",
    "np.random.seed(42)\n",
    "torch.manual_seed(42);"
   ]
  },
  {
   "cell_type": "code",
   "execution_count": null,
   "metadata": {},
   "outputs": [],
   "source": [
    "#### European put option\n",
    "N_i = 160\n",
    "N_b = 40\n",
    "N_pde = 2500\n",
    "N_data = 0\n",
    "\n",
    "# make data\n",
    "# random sample S in (0, S_inf), tau in (0, 1)\n",
    "# initial condition V(S, 0) = max(K - S, 0)\n",
    "S_ib = torch.rand(N_i, 1)*S_inf\n",
    "tau_ib = torch.zeros(N_i, 1)\n",
    "V_ib = torch.max(K - S_ib, torch.zeros_like(S_ib))\n",
    "# boundary condition V(0, tau) = K*exp(-r*tau), V(S_inf, tau) = 0\n",
    "S_ib = torch.cat([S_ib, torch.zeros(N_b, 1), torch.full((N_b, 1), S_inf)], dim=0)\n",
    "tau_ib = torch.cat([tau_ib, torch.rand(2*N_b, 1)*T], dim=0)\n",
    "V_ib = torch.cat([V_ib, K*torch.exp(-r*tau_ib[N_i:N_i+N_b]), torch.zeros((N_b, 1))], dim=0)\n",
    "# PDE points\n",
    "S_pde = torch.rand(N_pde, 1)*S_inf\n",
    "tau_pde = torch.rand(N_pde, 1)\n",
    "\n",
    "# require_grad = True\n",
    "S_ib.requires_grad = True\n",
    "tau_ib.requires_grad = True\n",
    "V_ib.requires_grad = True\n",
    "S_pde.requires_grad = True\n",
    "tau_pde.requires_grad = True\n",
    "\n",
    "\n",
    "# # save data\n",
    "# torch.save({'S': S_ib, 'tau': tau_ib, 'V': V_ib}, './data/european_put_ib.pt')\n",
    "# torch.save({'S': S_pde, 'tau': tau_pde}, './data/european_put_pde.pt')"
   ]
  },
  {
   "cell_type": "code",
   "execution_count": 20,
   "metadata": {},
   "outputs": [],
   "source": [
    "#### European call option\n",
    "N_i = 160\n",
    "N_b = 40\n",
    "N_pde = 5000\n",
    "N_data = 40\n",
    "# make data\n",
    "# random sample S in (0, S_inf), tau in (0, 1)\n",
    "# initial condition V(S, 0) = max(S - K, 0)\n",
    "S_ib = torch.rand(N_i, 1)*S_inf\n",
    "tau_ib = torch.zeros(N_i, 1)\n",
    "V_ib = torch.max(S_ib - K, torch.zeros_like(S_ib))\n",
    "# boundary condition V(0, tau) = 0, V(S_inf, tau) = S_inf - K*exp(-r*tau)\n",
    "S_ib = torch.cat([S_ib, torch.zeros(N_b, 1), torch.full((N_b, 1), S_inf)], dim=0)\n",
    "tau_ib = torch.cat([tau_ib, torch.rand(2*N_b, 1)], dim=0)\n",
    "V_ib = torch.cat([V_ib, torch.zeros((N_b, 1)), torch.full((N_b, 1), S_inf)-K*torch.exp(-r*tau_ib[N_i:N_i+N_b])], dim=0)\n",
    "# PDE points\n",
    "S_pde = torch.rand(N_pde, 1)*S_inf\n",
    "tau_pde = torch.rand(N_pde, 1)\n",
    "#  data points\n",
    "if N_data > 0:\n",
    "    S_data = torch.rand(N_data, 1)*S_inf\n",
    "    tau_data = torch.rand(N_data, 1)\n",
    "    V_data = V_BS(S_data, tau_data, K, r, sigma, 'call')\n",
    "    S_data.requires_grad = True\n",
    "    tau_data.requires_grad = True\n",
    "    V_data.requires_grad = True\n",
    "else:\n",
    "    S_data = None\n",
    "    tau_data = None\n",
    "    V_data = None\n",
    "\n",
    "# require_grad = True\n",
    "S_ib.requires_grad = True\n",
    "tau_ib.requires_grad = True\n",
    "V_ib.requires_grad = True\n",
    "S_pde.requires_grad = True\n",
    "tau_pde.requires_grad = True\n",
    "\n",
    "# save data\n",
    "torch.save({'S': S_ib, 'tau': tau_ib, 'V': V_ib}, './data/european_call_ib.pt')\n",
    "torch.save({'S': S_pde, 'tau': tau_pde}, './data/european_call_pde.pt')\n",
    "if N_data > 0:\n",
    "    torch.save({'S': S_data, 'tau': tau_data, 'V': V_data}, './data/european_call_data.pt')"
   ]
  },
  {
   "cell_type": "code",
   "execution_count": null,
   "metadata": {},
   "outputs": [],
   "source": []
  }
 ],
 "metadata": {
  "kernelspec": {
   "display_name": "base",
   "language": "python",
   "name": "python3"
  },
  "language_info": {
   "codemirror_mode": {
    "name": "ipython",
    "version": 3
   },
   "file_extension": ".py",
   "mimetype": "text/x-python",
   "name": "python",
   "nbconvert_exporter": "python",
   "pygments_lexer": "ipython3",
   "version": "3.11.5"
  }
 },
 "nbformat": 4,
 "nbformat_minor": 2
}
